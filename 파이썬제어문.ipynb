{
  "nbformat": 4,
  "nbformat_minor": 0,
  "metadata": {
    "colab": {
      "name": "파이썬제어문.ipynb",
      "provenance": [],
      "authorship_tag": "ABX9TyNWkNw9wh+IJfRvWFYqNCme",
      "include_colab_link": true
    },
    "kernelspec": {
      "name": "python3",
      "display_name": "Python 3"
    }
  },
  "cells": [
    {
      "cell_type": "markdown",
      "metadata": {
        "id": "view-in-github",
        "colab_type": "text"
      },
      "source": [
        "<a href=\"https://colab.research.google.com/github/bjwoo1/python_start/blob/main/%ED%8C%8C%EC%9D%B4%EC%8D%AC%EC%A0%9C%EC%96%B4%EB%AC%B8.ipynb\" target=\"_parent\"><img src=\"https://colab.research.google.com/assets/colab-badge.svg\" alt=\"Open In Colab\"/></a>"
      ]
    },
    {
      "cell_type": "code",
      "metadata": {
        "colab": {
          "base_uri": "https://localhost:8080/"
        },
        "id": "S-bf0wi6WlNm",
        "outputId": "b25c62ec-464b-4d11-c0cf-5b649e27fcfb"
      },
      "source": [
        "food = input('먹고싶은음식을 입력하세요. >>  ')\r\n",
        "print('당신이 입력한 먹고 싶은 음식은 ' , food)"
      ],
      "execution_count": 4,
      "outputs": [
        {
          "output_type": "stream",
          "text": [
            "먹고싶은음식을 입력하세요. >>  회\n",
            "당신이 입력한 먹고 싶은 음식은  회\n"
          ],
          "name": "stdout"
        }
      ]
    },
    {
      "cell_type": "code",
      "metadata": {
        "colab": {
          "base_uri": "https://localhost:8080/"
        },
        "id": "iU3dhie9cZdX",
        "outputId": "751b18c1-138d-424c-fd79-83ec3fa8a3a4"
      },
      "source": [
        "if food == '우동':\r\n",
        "  print('우산을 들고간다')\r\n",
        "  print('돈 들고 간다.')\r\n",
        "  print('우동집으로 간다.')\r\n",
        "elif food == '짜장면':\r\n",
        "    print('중국집으로 간다.')\r\n",
        "elif food == '라면': #if 뒤에는 반드시 조건을 쓴다.\r\n",
        "  print('분식집으로 간다.')\r\n",
        "else: #else뒤에는 조건을 쓰지 않는다.\r\n",
        "  print('집에서 먹는다.')\r\n"
      ],
      "execution_count": 7,
      "outputs": [
        {
          "output_type": "stream",
          "text": [
            "집에서 먹는다.\n"
          ],
          "name": "stdout"
        }
      ]
    },
    {
      "cell_type": "code",
      "metadata": {
        "id": "s0H_ctrgmXXo"
      },
      "source": [
        ""
      ],
      "execution_count": 19,
      "outputs": []
    },
    {
      "cell_type": "code",
      "metadata": {
        "colab": {
          "base_uri": "https://localhost:8080/"
        },
        "id": "PRXMAQKMdYjj",
        "outputId": "b70b58b6-ce44-471f-f7d4-310ed012ae11"
      },
      "source": [
        "start = 0\r\n",
        "while start < 10: #True\r\n",
        "  print(start, '> 내가 반복')\r\n",
        "  start = start + 1"
      ],
      "execution_count": 10,
      "outputs": [
        {
          "output_type": "stream",
          "text": [
            "0 > 내가 반복\n",
            "1 > 내가 반복\n",
            "2 > 내가 반복\n",
            "3 > 내가 반복\n",
            "4 > 내가 반복\n",
            "5 > 내가 반복\n",
            "6 > 내가 반복\n",
            "7 > 내가 반복\n",
            "8 > 내가 반복\n",
            "9 > 내가 반복\n"
          ],
          "name": "stdout"
        }
      ]
    },
    {
      "cell_type": "code",
      "metadata": {
        "colab": {
          "base_uri": "https://localhost:8080/"
        },
        "id": "4yzS7t9qfb1U",
        "outputId": "4761cd72-1e41-46e6-c217-a0fe328278d8"
      },
      "source": [
        "for x in range(0, 10): #0~9, 기본값이 1씩 증가!\r\n",
        "  print(x, '나도 반복')"
      ],
      "execution_count": 12,
      "outputs": [
        {
          "output_type": "stream",
          "text": [
            "0 나도 반복\n",
            "1 나도 반복\n",
            "2 나도 반복\n",
            "3 나도 반복\n",
            "4 나도 반복\n",
            "5 나도 반복\n",
            "6 나도 반복\n",
            "7 나도 반복\n",
            "8 나도 반복\n",
            "9 나도 반복\n"
          ],
          "name": "stdout"
        }
      ]
    },
    {
      "cell_type": "code",
      "metadata": {
        "colab": {
          "base_uri": "https://localhost:8080/"
        },
        "id": "d7ReNgCgja9W",
        "outputId": "2fbcfc76-c496-49dc-ac62-9df30ac1433f"
      },
      "source": [
        "time = input('현재시각을 입력하시오 >> ')\r\n",
        "if int(time) < 11:\r\n",
        "  print('굿모닝')\r\n",
        "elif int(time) < 15:\r\n",
        "  print('굿애프터눈')\r\n",
        "elif int(time) < 20:\r\n",
        "  print('굿이브닝')\r\n",
        "else:\r\n",
        " print('굿나잇')"
      ],
      "execution_count": 17,
      "outputs": [
        {
          "output_type": "stream",
          "text": [
            "현재시각을 입력하시오 >> 15\n",
            "굿이브닝\n"
          ],
          "name": "stdout"
        }
      ]
    },
    {
      "cell_type": "code",
      "metadata": {
        "id": "7jMMOHDKlYHk"
      },
      "source": [
        "month = input('이번달을 입력하시오 >> ')\r\n",
        "if int(month) == 1:\r\n",
        "  print('겨울입니다.')\r\n",
        "elif int(month) <= 5:\r\n",
        "  print('봄입니다.')\r\n",
        "elif int(month) <= 8:\r\n",
        "  print('여름입니다.')\r\n",
        "elif int(month) <= 11:\r\n",
        "  print('가을입니다.')\r\n",
        "else:\r\n",
        "  print('겨울입니다.')"
      ],
      "execution_count": null,
      "outputs": []
    },
    {
      "cell_type": "code",
      "metadata": {
        "id": "8S3s_XiRMZLZ"
      },
      "source": [
        ""
      ],
      "execution_count": null,
      "outputs": []
    }
  ]
}